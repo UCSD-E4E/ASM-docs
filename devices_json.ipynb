{
 "cells": [
  {
   "cell_type": "markdown",
   "metadata": {},
   "source": [
    "This file shall provide a basic interface to the `devices.json` file, as well as a conceptual understanding of how the `devices.json` should be structured."
   ]
  },
  {
   "cell_type": "code",
   "execution_count": 1,
   "metadata": {},
   "outputs": [],
   "source": [
    "import json\n",
    "import uuid"
   ]
  },
  {
   "cell_type": "code",
   "execution_count": 2,
   "metadata": {},
   "outputs": [],
   "source": [
    "devices_file = {}"
   ]
  },
  {
   "cell_type": "markdown",
   "metadata": {},
   "source": [
    "# Device UUID\n",
    "This creates a UUID for the first device.  Note that we are using a version 1 UUID, however, any UUID version is acceptable.  Cast the UUID object to a string to generate the canonical text representation"
   ]
  },
  {
   "cell_type": "code",
   "execution_count": 3,
   "metadata": {},
   "outputs": [
    {
     "name": "stdout",
     "output_type": "stream",
     "text": [
      "Device1 UUID: 80ac07dc-3473-11eb-a187-a0afbd87594c\n"
     ]
    }
   ],
   "source": [
    "device1_uuid = uuid.uuid1()\n",
    "print(\"Device1 UUID: %s\" % (str(device1_uuid)))\n",
    "devices_file[str(device1_uuid)] = {}"
   ]
  },
  {
   "cell_type": "markdown",
   "metadata": {},
   "source": [
    "## Device Attributes\n",
    "### Attribute Names\n",
    "We expect the following attributes for each device: `location_units`, `location`, `type`, `fw_ver`, `desc`.  In general, `location_units`, `location`, and `desc` may be provided by the user when initially connecting the instrument to the data server, while `type` and `fw_ver` may be automatically populated by the instrument upon connecting to the data server.\n",
    "\n",
    "### Location\n",
    "For now, we will accept the following location units: `UTM`, `DD`, `DMS`, and `Mobile`.  The first three stand for Universal Transverse Mercator, Decimal Degrees, and Degrees Minutes Seconds, respectively.  All of these coordinates should be with respect to WGS84.\n",
    "\n",
    "The `Mobile` unit is added to acknowledge that certain \"instruments\" may be mobile ground/aerial units, and the location may be a varying value.  This value would then be captured in the datastream.\n",
    "\n",
    "#### UTM\n",
    "See https://en.wikipedia.org/wiki/Universal_Transverse_Mercator_coordinate_system\n",
    "\n",
    "#### Decimal Degrees\n",
    "See https://en.wikipedia.org/wiki/Decimal_degrees\n",
    "\n",
    "#### Degrees Minutes Seconds\n",
    "\n",
    "### Type\n",
    "The `type` field shall be a unique human readable string that identifies the instrument and instrument configuration.  That is, another device with the same `type` shall be functionally identical.\n",
    "\n",
    "### Firmware Version\n",
    "The `fw_ver` field shall be a string representing the code version on the instrument.  This should be used to load the proper interfacing code to accept data from the device.\n",
    "\n",
    "### Description\n",
    "The `description` field shall optionally be a human readable string that uniquely identifies the instrument.  This is used in the data folder tree.  Note in Device 3 that this is not provided, and is thus set to `null`"
   ]
  },
  {
   "cell_type": "code",
   "execution_count": 4,
   "metadata": {},
   "outputs": [],
   "source": [
    "device1_location_units = \"UTM\"\n",
    "device1_location_str = \"11 S 0477875 3638637\"\n",
    "devices_file[str(device1_uuid)]['location_units'] = device1_location_units\n",
    "devices_file[str(device1_uuid)]['location'] = device1_location_str\n",
    "\n",
    "device1_instrument_type = \"ASM_IP_CAMERA\"\n",
    "devices_file[str(device1_uuid)]['type'] = device1_instrument_type\n",
    "\n",
    "device1_fw_ver = \"1.00.00.00\"\n",
    "devices_file[str(device1_uuid)]['fw_ver'] = device1_fw_ver\n",
    "\n",
    "device1_desc = \"IP Camera 1\"\n",
    "devices_file[str(device1_uuid)]['desc'] = device1_desc"
   ]
  },
  {
   "cell_type": "code",
   "execution_count": 5,
   "metadata": {},
   "outputs": [
    {
     "name": "stdout",
     "output_type": "stream",
     "text": [
      "Device2 UUID: 80ac07dd-3473-11eb-a187-a0afbd87594c\n"
     ]
    }
   ],
   "source": [
    "device2_uuid = uuid.uuid1()\n",
    "print(\"Device2 UUID: %s\" % (str(device2_uuid)))\n",
    "devices_file[str(device2_uuid)] = {}"
   ]
  },
  {
   "cell_type": "code",
   "execution_count": 6,
   "metadata": {},
   "outputs": [],
   "source": [
    "device2_location_units = \"DD\"\n",
    "device2_location_str = \"32.8856679 -117.2365393\"\n",
    "devices_file[str(device2_uuid)]['location_units'] = device2_location_units\n",
    "devices_file[str(device2_uuid)]['location'] = device2_location_str\n",
    "\n",
    "device2_instrument_type = \"ASM_RPI_NODE\"\n",
    "devices_file[str(device2_uuid)]['type'] = device2_instrument_type\n",
    "\n",
    "device2_fw_ver = \"1.01rc1\"\n",
    "devices_file[str(device2_uuid)]['fw_ver'] = device2_fw_ver\n",
    "\n",
    "device2_desc = \"Aye-Aye Nest Box Pi 1\"\n",
    "devices_file[str(device2_uuid)]['desc'] = device2_desc"
   ]
  },
  {
   "cell_type": "code",
   "execution_count": 7,
   "metadata": {},
   "outputs": [
    {
     "name": "stdout",
     "output_type": "stream",
     "text": [
      "Device3 UUID: 80ac07de-3473-11eb-a187-a0afbd87594c\n"
     ]
    }
   ],
   "source": [
    "device3_uuid = uuid.uuid1()\n",
    "print(\"Device3 UUID: %s\" % (str(device3_uuid)))\n",
    "devices_file[str(device3_uuid)] = {}"
   ]
  },
  {
   "cell_type": "code",
   "execution_count": 8,
   "metadata": {},
   "outputs": [],
   "source": [
    "device3_location_units = \"DMS\"\n",
    "device3_location_str = \"32.53'08.4048\\\" -117.14'11.5416\\\"\"\n",
    "devices_file[str(device3_uuid)]['location_units'] = device3_location_units\n",
    "devices_file[str(device3_uuid)]['location'] = device3_location_str\n",
    "\n",
    "device3_instrument_type = \"ASM_NANO\"\n",
    "devices_file[str(device3_uuid)]['type'] = device3_instrument_type\n",
    "\n",
    "device3_fw_ver = \"0.01a\"\n",
    "devices_file[str(device3_uuid)]['fw_ver'] = device3_fw_ver\n",
    "\n",
    "device3_desc = None\n",
    "devices_file[str(device3_uuid)]['desc'] = device3_desc"
   ]
  },
  {
   "cell_type": "markdown",
   "metadata": {},
   "source": [
    "# devices.json\n",
    "The below shows what the contents of `devices.json` would look like for the devices described in code above."
   ]
  },
  {
   "cell_type": "code",
   "execution_count": 9,
   "metadata": {},
   "outputs": [
    {
     "name": "stdout",
     "output_type": "stream",
     "text": [
      "{\n",
      "    \"80ac07dc-3473-11eb-a187-a0afbd87594c\": {\n",
      "        \"desc\": \"IP Camera 1\",\n",
      "        \"fw_ver\": \"1.00.00.00\",\n",
      "        \"location\": \"11 S 0477875 3638637\",\n",
      "        \"location_units\": \"UTM\",\n",
      "        \"type\": \"ASM_IP_CAMERA\"\n",
      "    },\n",
      "    \"80ac07dd-3473-11eb-a187-a0afbd87594c\": {\n",
      "        \"desc\": \"Aye-Aye Nest Box Pi 1\",\n",
      "        \"fw_ver\": \"1.01rc1\",\n",
      "        \"location\": \"32.8856679 -117.2365393\",\n",
      "        \"location_units\": \"DD\",\n",
      "        \"type\": \"ASM_RPI_NODE\"\n",
      "    },\n",
      "    \"80ac07de-3473-11eb-a187-a0afbd87594c\": {\n",
      "        \"desc\": null,\n",
      "        \"fw_ver\": \"0.01a\",\n",
      "        \"location\": \"32.53'08.4048\\\" -117.14'11.5416\\\"\",\n",
      "        \"location_units\": \"DMS\",\n",
      "        \"type\": \"ASM_NANO\"\n",
      "    }\n",
      "}\n"
     ]
    }
   ],
   "source": [
    "print(json.dumps(devices_file, sort_keys=True, indent=4))"
   ]
  },
  {
   "cell_type": "markdown",
   "metadata": {},
   "source": [
    "# Directory Layout\n",
    "The below shows what the directory layout would look like for the devices described above."
   ]
  },
  {
   "cell_type": "code",
   "execution_count": 10,
   "metadata": {},
   "outputs": [
    {
     "name": "stdout",
     "output_type": "stream",
     "text": [
      "${DATA_DIR}/\n",
      "    80ac07dc-3473-11eb-a187-a0afbd87594c_IP_Camera_1/\n",
      "        ...\n",
      "    80ac07dd-3473-11eb-a187-a0afbd87594c_Aye-Aye_Nest_Box_Pi_1/\n",
      "        ...\n",
      "    80ac07de-3473-11eb-a187-a0afbd87594c/\n",
      "        ...\n",
      "    ...\n",
      "    devices.json\n"
     ]
    }
   ],
   "source": [
    "print(\"${DATA_DIR}/\")\n",
    "print(\"    %s_%s/\" % (device1_uuid, device1_desc.replace(' ', '_')))\n",
    "print(\"        ...\")\n",
    "print(\"    %s_%s/\" % (device2_uuid, device2_desc.replace(' ', '_')))\n",
    "print(\"        ...\")\n",
    "print(\"    %s/\" % (device3_uuid))\n",
    "print(\"        ...\")\n",
    "print(\"    ...\")\n",
    "print(\"    devices.json\")"
   ]
  }
 ],
 "metadata": {
  "kernelspec": {
   "display_name": "Python 3",
   "language": "python",
   "name": "python3"
  },
  "language_info": {
   "codemirror_mode": {
    "name": "ipython",
    "version": 3
   },
   "file_extension": ".py",
   "mimetype": "text/x-python",
   "name": "python",
   "nbconvert_exporter": "python",
   "pygments_lexer": "ipython3",
   "version": "3.6.9"
  }
 },
 "nbformat": 4,
 "nbformat_minor": 4
}
